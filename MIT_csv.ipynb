{
 "cells": [
  {
   "cell_type": "code",
   "execution_count": null,
   "metadata": {},
   "outputs": [],
   "source": [
    "# Machine Learning using MIT arrhythmia data set\n"
   ]
  },
  {
   "cell_type": "code",
   "execution_count": 42,
   "metadata": {},
   "outputs": [],
   "source": [
    "import matplotlib.pyplot as plt\n",
    "import numpy as np\n",
    "from sklearn import linear_model\n",
    "from sklearn import svm\n",
    "from sklearn.svm import SVC\n",
    "from sklearn import decomposition\n",
    "from sklearn import preprocessing\n",
    "from sklearn.preprocessing import MinMaxScaler\n",
    "from sklearn.discriminant_analysis import LinearDiscriminantAnalysis as LDA\n",
    "import pywt"
   ]
  },
  {
   "cell_type": "code",
   "execution_count": null,
   "metadata": {
    "scrolled": true
   },
   "outputs": [],
   "source": [
    "arData = np.loadtxt(fname = \"MIT-BIH_comb.csv\",delimiter = \",\",dtype='float')\n",
    "#print (arData)\n",
    "#augData = []\n",
    "#for i in arData:\n",
    "#    augData.append(i)\n",
    "print (len(arData))"
   ]
  },
  {
   "cell_type": "code",
   "execution_count": 2,
   "metadata": {
    "scrolled": true
   },
   "outputs": [
    {
     "name": "stdout",
     "output_type": "stream",
     "text": [
      "112551\n",
      "(112551, 201)\n"
     ]
    }
   ],
   "source": [
    "apData = np.loadtxt(fname = \"MIT-BIH_bw_rs.csv\",delimiter = \",\",dtype='float')\n",
    "print (len(apData))\n",
    "print(apData.shape)"
   ]
  },
  {
   "cell_type": "code",
   "execution_count": 16,
   "metadata": {},
   "outputs": [
    {
     "name": "stdout",
     "output_type": "stream",
     "text": [
      "(24141, 201)\n"
     ]
    }
   ],
   "source": [
    "apDatasub = np.loadtxt(fname = \"MIT-BIH_sub.csv\",delimiter = \",\",dtype='float')\n",
    "#print (len(apData100))\n",
    "print(apDatasub.shape)"
   ]
  },
  {
   "cell_type": "code",
   "execution_count": 30,
   "metadata": {},
   "outputs": [
    {
     "name": "stdout",
     "output_type": "stream",
     "text": [
      "(20542, 201)\n"
     ]
    }
   ],
   "source": [
    "apDatasub2 = np.loadtxt(fname = \"MIT-BIH_sub2.csv\",delimiter = \",\",dtype='float')\n",
    "#print (len(apData100))\n",
    "print(apDatasub2.shape)"
   ]
  },
  {
   "cell_type": "code",
   "execution_count": 3,
   "metadata": {},
   "outputs": [
    {
     "name": "stdout",
     "output_type": "stream",
     "text": [
      "(23794, 201)\n"
     ]
    }
   ],
   "source": [
    "apDatasub3 = np.loadtxt(fname = \"MIT-BIH_sub3.csv\",delimiter = \",\",dtype='float')\n",
    "#print (len(apData100))\n",
    "print(apDatasub3.shape)"
   ]
  },
  {
   "cell_type": "code",
   "execution_count": 31,
   "metadata": {},
   "outputs": [
    {
     "name": "stdout",
     "output_type": "stream",
     "text": [
      "15331\n",
      "5211\n"
     ]
    }
   ],
   "source": [
    "ct1 = 0\n",
    "ct2 = 0\n",
    "for i in range(0,len(apDatasub2)):\n",
    "    if(apDatasub2[i][-1] == 1.0):\n",
    "        ct1 += 1\n",
    "    if(apDatasub2[i][-1] == 2.0):\n",
    "        ct2 += 1\n",
    "print (ct1)\n",
    "print (ct2)"
   ]
  },
  {
   "cell_type": "code",
   "execution_count": 33,
   "metadata": {},
   "outputs": [
    {
     "name": "stdout",
     "output_type": "stream",
     "text": [
      "14000\n",
      "2000\n"
     ]
    }
   ],
   "source": [
    "Ytargets = []\n",
    "Xdata = []\n",
    "Xtest = []\n",
    "Ytest = []\n",
    "\n",
    "rg = 4000\n",
    "swn = 0\n",
    "ct1 = 0\n",
    "ct2 = 0\n",
    "\n",
    "#test data must be different than training\n",
    "trg = 1000\n",
    "tswn = 4\n",
    "tct1 = 0\n",
    "tct2 = 0\n",
    "for i in range(0,len(apDatasub2)):\n",
    "    if(ct1<10000):\n",
    "        if(apDatasub2[i][-1] == 1.0):\n",
    "            Xdata.append(apDatasub2[i][:-1])\n",
    "            Ytargets.append(apDatasub2[i][-1])\n",
    "            ct1 += 1\n",
    "    elif(tct1<1000):\n",
    "        if(apDatasub2[i][-1] == 1.0):\n",
    "            Xtest.append(apDatasub2[i][:-1])\n",
    "            Ytest.append(apDatasub2[i][-1])\n",
    "            tct1 += 1\n",
    "            \n",
    "    if(ct2<4000):\n",
    "        if(apDatasub2[i][-1] == 2.0):\n",
    "            Xdata.append(apDatasub2[i][:-1])\n",
    "            Ytargets.append(apDatasub2[i][-1])\n",
    "            ct2 += 1\n",
    "    elif(tct2<1000):\n",
    "        if(apDatasub2[i][-1] == 2.0):\n",
    "            Xtest.append(apDatasub2[i][:-1])\n",
    "            Ytest.append(apDatasub2[i][-1])\n",
    "            tct2 += 1\n",
    "print(len(Xdata))\n",
    "\n",
    "#for i in range(trg*tswn,len(apDatasub2)):\n",
    "#    if(tct1<trg):\n",
    "#        if(apDatasub2[i][-1] == 1.0):\n",
    "#            Xtest.append(apDatasub2[i][:-1])\n",
    "#            Ytest.append(apDatasub2[i][-1])\n",
    "#            tct1 += 1\n",
    "#    if(tct2<trg):\n",
    "#        if(apDatasub2[i][-1] == 2.0):\n",
    "#            Xtest.append(apDatasub2[i][:-1])\n",
    "#            Ytest.append(apDatasub2[i][-1])\n",
    "#            tct2 += 1\n",
    "print(len(Xtest))\n"
   ]
  },
  {
   "cell_type": "code",
   "execution_count": null,
   "metadata": {},
   "outputs": [],
   "source": [
    "Ytargets = []\n",
    "Xdata = []\n",
    "Xtest = []\n",
    "Ytest = []\n",
    "for i in range(0,len(apData)):\n",
    "    Xdata.append(apData[i][:-1])\n",
    "    Ytargets.append(apData[i][-1])\n",
    "print (len(Xdata[0]))\n",
    "print (len(Xdata))"
   ]
  },
  {
   "cell_type": "code",
   "execution_count": 6,
   "metadata": {
    "scrolled": true
   },
   "outputs": [
    {
     "name": "stdout",
     "output_type": "stream",
     "text": [
      "1.0\n"
     ]
    },
    {
     "data": {
      "image/png": "[encoded data removed]",
      "text/plain": [
       "<Figure size 432x288 with 1 Axes>"
      ]
     },
     "metadata": {
      "needs_background": "light"
     },
     "output_type": "display_data"
    }
   ],
   "source": [
    "#plot data\n",
    "#timeData0 = []\n",
    "l = 100005\n",
    "plt.plot(apData[l][:-1])\n",
    "print (apData[l][-1])"
   ]
  },
  {
   "cell_type": "code",
   "execution_count": 5,
   "metadata": {},
   "outputs": [],
   "source": [
    "trainsize = 80000"
   ]
  },
  {
   "cell_type": "code",
   "execution_count": null,
   "metadata": {
    "scrolled": true
   },
   "outputs": [],
   "source": [
    "#OLS Regression\n",
    "trainsize = 80000\n",
    "regr = linear_model.LinearRegression()\n",
    "\n",
    "regr.fit(Xdata[0:trainsize], Ytargets[0:trainsize])\n",
    "print('Learned Regression Coefficients = ', regr.coef_)\n",
    "print('Learned Regression Intercept = ', regr.intercept_)\n",
    "OLS_coeff = regr.coef_\n",
    "print('Mean squared error (prediction error) = ', np.mean((regr.predict(Xdata[trainsize:]) - Ytargets[trainsize:])**2))"
   ]
  },
  {
   "cell_type": "code",
   "execution_count": null,
   "metadata": {
    "scrolled": true
   },
   "outputs": [],
   "source": [
    "#Ridge regression\n",
    "min_mean = 100000\n",
    "min_alpha = 0\n",
    "trainsize = 80000\n",
    "for i in range(0,1001):\n",
    "    alpha = i\n",
    "    regr = linear_model.Ridge(alpha)\n",
    "\n",
    "    regr.fit(Xdata[0:trainsize], Ytargets[0:trainsize])\n",
    "    mean = np.mean((regr.predict(Xdata[trainsize:]) - Ytargets[trainsize:])**2)\n",
    "    \n",
    "    if (mean < min_mean):\n",
    "        min_mean = mean\n",
    "        min_alpha = alpha\n",
    "print(min_alpha)\n",
    "print(min_mean)\n",
    "#print('Learned Ridge Coefficients = ', regr.coef_)\n",
    "#print('Learned Ridge Intercept = ', regr.intercept_)\n",
    "#Ridge_coeff = regr.coef_\n",
    "#print('Mean squared error (prediction error) = ', np.mean((regr.predict(Xdata[trainsize:]) - Ytargets[trainsize:])**2))"
   ]
  },
  {
   "cell_type": "code",
   "execution_count": null,
   "metadata": {
    "scrolled": true
   },
   "outputs": [],
   "source": [
    "#LASSO regression\n",
    "min_mean = 100000\n",
    "min_alpha = 0\n",
    "trainsize = 80000\n",
    "for i in range(1,1001):\n",
    "    alpha = i\n",
    "    regr = linear_model.Lasso(alpha)\n",
    "\n",
    "    regr.fit(Xdata[0:trainsize], Ytargets[0:trainsize])\n",
    "    mean = np.mean((regr.predict(Xdata[trainsize:]) - Ytargets[trainsize:])**2)\n",
    "    \n",
    "    if (mean < min_mean):\n",
    "        min_mean = mean\n",
    "        min_alpha = alpha\n",
    "print(min_alpha)\n",
    "print(min_mean)"
   ]
  },
  {
   "cell_type": "code",
   "execution_count": null,
   "metadata": {},
   "outputs": [],
   "source": [
    "trainsize = 80000\n",
    "clf = svm.SVC(gamma='auto', kernel='linear')\n",
    "clf.fit(Xdata[0:trainsize], Ytargets[0:trainsize])\n",
    "predYdata = clf.predict(Xdata[trainsize:])\n",
    "total = 0\n",
    "cPred = 0\n",
    "for i in range(0,len(Ytargets[trainsize:])):\n",
    "    if predYdata[i] == Ytargets[trainsize+i]:\n",
    "        cPred += 1\n",
    "    total += 1\n",
    "accuracy = float(cPred)/float(total)\n",
    "print (accuracy)"
   ]
  },
  {
   "cell_type": "code",
   "execution_count": null,
   "metadata": {},
   "outputs": [],
   "source": [
    "clfrbf = svm.SVC(gamma='auto', kernel='rbf')\n",
    "clfrbf.fit(Xdata[0:trainsize], Ytargets[0:trainsize])\n",
    "predYdata = clfrbf.predict(Xdata[trainsize:])\n",
    "total = 0\n",
    "cPred = 0\n",
    "for i in range(0,len(Ytargets[trainsize:])):\n",
    "    if predYdata[i] == Ytargets[trainsize+i]:\n",
    "        cPred += 1\n",
    "    total += 1\n",
    "accuracy = float(cPred)/float(total)\n",
    "print (accuracy)"
   ]
  },
  {
   "cell_type": "code",
   "execution_count": null,
   "metadata": {},
   "outputs": [],
   "source": [
    "predYdata = clfrbf.predict(Xdata[trainsize:])\n",
    "total = 0\n",
    "cPred = 0\n",
    "for i in range(0,len(Ytargets[trainsize:])):\n",
    "    if predYdata[i] == Ytargets[trainsize+i]:\n",
    "        cPred += 1\n",
    "    total += 1\n",
    "accuracy = float(cPred)/float(total)\n",
    "print (accuracy)"
   ]
  },
  {
   "cell_type": "code",
   "execution_count": null,
   "metadata": {},
   "outputs": [],
   "source": [
    "for x in range(1,11):\n",
    "    clfpoly = svm.SVC(gamma='auto', kernel='poly', degree = x)\n",
    "    clfpoly.fit(Xdata[0:trainsize], Ytargets[0:trainsize])\n",
    "    predYdata = clfpoly.predict(Xdata[trainsize:])\n",
    "    total = 0\n",
    "    cPred = 0\n",
    "    for i in range(0,len(Ytargets[trainsize:])):\n",
    "        if predYdata[i] == Ytargets[trainsize+i]:\n",
    "            cPred += 1\n",
    "        total += 1\n",
    "    accuracy = float(cPred)/float(total)\n",
    "    print (\"Poly Degree: \" + str(x))\n",
    "    print (accuracy)\n",
    "    print (\" \")"
   ]
  },
  {
   "cell_type": "code",
   "execution_count": null,
   "metadata": {},
   "outputs": [],
   "source": [
    "predYdata = clfp3.predict(Xdata[trainsize:])\n",
    "total = 0\n",
    "cPred = 0\n",
    "for i in range(0,len(Ytargets[trainsize:])):\n",
    "    if predYdata[i] == Ytargets[trainsize+i]:\n",
    "        cPred += 1\n",
    "    total += 1\n",
    "accuracy = float(cPred)/float(total)\n",
    "print (accuracy)"
   ]
  },
  {
   "cell_type": "code",
   "execution_count": null,
   "metadata": {
    "scrolled": true
   },
   "outputs": [],
   "source": [
    "for x in range(11,21):\n",
    "    clfpoly = svm.SVC(gamma='auto', kernel='poly', degree = x)\n",
    "    clfpoly.fit(Xdata[0:trainsize], Ytargets[0:trainsize])\n",
    "    predYdata = clfpoly.predict(Xdata[trainsize:])\n",
    "    total = 0\n",
    "    cPred = 0\n",
    "    for i in range(0,len(Ytargets[trainsize:])):\n",
    "        if predYdata[i] == Ytargets[trainsize+i]:\n",
    "            cPred += 1\n",
    "        total += 1\n",
    "    accuracy = float(cPred)/float(total)\n",
    "    print (\"Poly Degree: \" + str(x))\n",
    "    print (accuracy)\n",
    "    print (\" \")"
   ]
  },
  {
   "cell_type": "code",
   "execution_count": null,
   "metadata": {},
   "outputs": [],
   "source": [
    "clfsig = svm.SVC(gamma='auto', kernel='sigmoid')\n",
    "clfsig.fit(Xdata[0:trainsize], Ytargets[0:trainsize])\n",
    "predYdata = clfsig.predict(Xdata[trainsize:])\n",
    "total = 0\n",
    "cPred = 0\n",
    "for i in range(0,len(Ytargets[trainsize:])):\n",
    "    if predYdata[i] == Ytargets[trainsize+i]:\n",
    "        cPred += 1\n",
    "    total += 1\n",
    "accuracy = float(cPred)/float(total)\n",
    "print (\"Sig: \")\n",
    "print (accuracy)\n",
    "print (\" \")"
   ]
  },
  {
   "cell_type": "code",
   "execution_count": null,
   "metadata": {},
   "outputs": [],
   "source": [
    "from sklearn.svm import NuSVC"
   ]
  },
  {
   "cell_type": "code",
   "execution_count": null,
   "metadata": {},
   "outputs": [],
   "source": [
    "clf = svm.NuSVC(gamma='auto', kernel='linear')\n",
    "clf.fit(Xdata[0:trainsize], Ytargets[0:trainsize])\n",
    "predYdata = clf.predict(Xdata[trainsize:])\n",
    "total = 0\n",
    "cPred = 0\n",
    "for i in range(0,len(Ytargets[trainsize:])):\n",
    "    if predYdata[i] == Ytargets[trainsize+i]:\n",
    "        cPred += 1\n",
    "    total += 1\n",
    "accuracy = float(cPred)/float(total)\n",
    "print (accuracy)"
   ]
  },
  {
   "cell_type": "code",
   "execution_count": null,
   "metadata": {},
   "outputs": [],
   "source": [
    "Xnorm = preprocessing.normalize(Xdata[0:trainsize])\n",
    "scaler = MinMaxScaler(feature_range=[0, 1])\n",
    "data_rescaled = scaler.fit_transform(Xnorm[:, 0:200])\n",
    "\n",
    "pca = decomposition.PCA().fit(data_rescaled)\n",
    "#Plotting the Cumulative Summation of the Explained Variance\n",
    "plt.figure()\n",
    "plt.plot(np.cumsum(pca.explained_variance_ratio_))\n",
    "plt.xlabel('Number of Components')\n",
    "plt.ylabel('Variance (%)') #for each component\n",
    "plt.title('Pulsar Dataset Explained Variance')\n",
    "plt.show()"
   ]
  },
  {
   "cell_type": "code",
   "execution_count": null,
   "metadata": {},
   "outputs": [],
   "source": [
    "pca = decomposition.PCA(n_components=25)\n",
    "pca.fit(Xnorm)\n",
    "Xpca = pca.transform(Xnorm)\n",
    "\n",
    "clf = svm.SVC(gamma='auto', kernel='linear')\n",
    "clf.fit(Xpca, Ytargets[0:trainsize])\n",
    "\n",
    "Xtest = preprocessing.normalize(Xdata[trainsize:])\n",
    "pca.fit(Xtest)\n",
    "XTestpca = pca.transform(Xtest)\n",
    "predYdata = clf.predict(XTestpca)\n",
    "\n",
    "total = 0\n",
    "cPred = 0\n",
    "for i in range(0,len(Ytargets[trainsize:])):\n",
    "    if predYdata[i] == Ytargets[trainsize+i]:\n",
    "        cPred += 1\n",
    "    total += 1\n",
    "accuracy = float(cPred)/float(total)\n",
    "print (accuracy)"
   ]
  },
  {
   "cell_type": "code",
   "execution_count": null,
   "metadata": {},
   "outputs": [],
   "source": [
    "clfrbf = svm.SVC(gamma='auto', kernel='rbf')\n",
    "clfrbf.fit(Xpca, Ytargets[0:trainsize])\n",
    "clfrbf.get_params()\n",
    "\n",
    "XTestpca = pca.transform(Xtest)\n",
    "predYdata = clfrbf.predict(XTestpca)\n",
    "\n",
    "total = 0\n",
    "cPred = 0\n",
    "for i in range(0,len(Ytargets[trainsize:])):\n",
    "    if predYdata[i] == Ytargets[trainsize+i]:\n",
    "        cPred += 1\n",
    "    total += 1\n",
    "accuracy = float(cPred)/float(total)\n",
    "print (accuracy)"
   ]
  },
  {
   "cell_type": "code",
   "execution_count": null,
   "metadata": {},
   "outputs": [],
   "source": [
    "print(pywt.Modes.modes)"
   ]
  },
  {
   "cell_type": "code",
   "execution_count": null,
   "metadata": {},
   "outputs": [],
   "source": [
    "coeffs = pywt.wavedec(Xdata[:trainsize],'db1',level=4)"
   ]
  },
  {
   "cell_type": "code",
   "execution_count": null,
   "metadata": {
    "scrolled": true
   },
   "outputs": [],
   "source": [
    "print (coeffs)"
   ]
  },
  {
   "cell_type": "code",
   "execution_count": null,
   "metadata": {},
   "outputs": [],
   "source": [
    "A4,D4,D3,D2,D1 = coeffs"
   ]
  },
  {
   "cell_type": "code",
   "execution_count": null,
   "metadata": {},
   "outputs": [],
   "source": [
    "len (D2[0])"
   ]
  },
  {
   "cell_type": "code",
   "execution_count": null,
   "metadata": {},
   "outputs": [],
   "source": [
    "Xnorm = preprocessing.normalize(D2)\n",
    "scaler = MinMaxScaler(feature_range=[0, 1])\n",
    "data_rescaled = scaler.fit_transform(Xnorm[:, :])\n",
    "\n",
    "pca = decomposition.PCA().fit(data_rescaled)\n",
    "#Plotting the Cumulative Summation of the Explained Variance\n",
    "plt.figure()\n",
    "plt.plot(np.cumsum(pca.explained_variance_ratio_))\n",
    "plt.xlabel('Number of Components')\n",
    "plt.ylabel('Variance (%)') #for each component\n",
    "plt.title('Pulsar Dataset Explained Variance')\n",
    "plt.show()"
   ]
  },
  {
   "cell_type": "code",
   "execution_count": null,
   "metadata": {},
   "outputs": [],
   "source": [
    "D2norm = preprocessing.normalize(D2)\n",
    "D2pca = decomposition.PCA(n_components=30)\n",
    "D2pca.fit(D2norm)\n",
    "D2tfm = D2pca.transform(D2norm)\n",
    "\n",
    "D3norm = preprocessing.normalize(D3)\n",
    "D3pca = decomposition.PCA(n_components=15)\n",
    "D3pca.fit(D3norm)\n",
    "D3tfm = D3pca.transform(D3norm)\n",
    "\n",
    "D4norm = preprocessing.normalize(D4)\n",
    "D4pca = decomposition.PCA(n_components=8)\n",
    "D4pca.fit(D4norm)\n",
    "D4tfm = D4pca.transform(D4norm)\n",
    "\n",
    "A4norm = preprocessing.normalize(A4)\n",
    "A4pca = decomposition.PCA(n_components=7)\n",
    "A4pca.fit(A4norm)\n",
    "A4tfm = A4pca.transform(A4norm)\n",
    "0\n",
    "Xpca = np.concatenate((A4tfm,D4tfm,D3tfm,D2tfm),axis=1)\n",
    "\n",
    "#print (A4tfm.shape)\n",
    "#print (D4tfm.shape)\n",
    "#print (D3tfm.shape)\n",
    "#print (D2tfm.shape)\n",
    "#print (Xpca.shape)\n",
    "\n",
    "clf = svm.SVC(gamma='auto', kernel='linear')\n",
    "clf.fit(Xpca, Ytargets[0:trainsize])"
   ]
  },
  {
   "cell_type": "code",
   "execution_count": null,
   "metadata": {},
   "outputs": [],
   "source": [
    "tcoeffs = pywt.wavedec(Xdata[trainsize:],'db1',level=4)\n",
    "tA4,tD4,tD3,tD2,tD1 = tcoeffs\n",
    "\n",
    "tD2norm = preprocessing.normalize(tD2)\n",
    "tD2pca = decomposition.PCA(n_components=30)\n",
    "tD2pca.fit(tD2norm)\n",
    "tD2tfm = tD2pca.transform(tD2norm)\n",
    "\n",
    "tD3norm = preprocessing.normalize(tD3)\n",
    "tD3pca = decomposition.PCA(n_components=15)\n",
    "tD3pca.fit(tD3norm)\n",
    "tD3tfm = tD3pca.transform(tD3norm)\n",
    "\n",
    "tD4norm = preprocessing.normalize(tD4)\n",
    "tD4pca = decomposition.PCA(n_components=8)\n",
    "tD4pca.fit(D4norm)\n",
    "tD4tfm = tD4pca.transform(tD4norm)\n",
    "\n",
    "tA4norm = preprocessing.normalize(tA4)\n",
    "tA4pca = decomposition.PCA(n_components=7)\n",
    "tA4pca.fit(tA4norm)\n",
    "tA4tfm = tA4pca.transform(tA4norm)\n",
    "\n",
    "tXpca = np.concatenate((tA4tfm,tD4tfm,tD3tfm,tD2tfm),axis=1)\n",
    "\n",
    "predYdata = clf.predict(tXpca)\n",
    "\n",
    "total = 0\n",
    "cPred = 0\n",
    "for i in range(0,len(Ytargets[trainsize:])):\n",
    "    if predYdata[i] == Ytargets[trainsize+i]:\n",
    "        cPred += 1\n",
    "    total += 1\n",
    "accuracy = float(cPred)/float(total)\n",
    "print (accuracy)"
   ]
  },
  {
   "cell_type": "code",
   "execution_count": 34,
   "metadata": {
    "scrolled": true
   },
   "outputs": [],
   "source": [
    "##FFT^2\n",
    "#Xtrain = Xdata[0:trainsize]\n",
    "#Ytarg = Ytargets[0:trainsize]\n",
    "\n",
    "Xfft = np.fft.fft(Xdata)\n",
    "\n",
    "XfftTemp = Xfft\n",
    "for i in range(0,len(Xfft)):\n",
    "    for a in range(0,200):\n",
    "        XfftTemp[i][a] = Xfft[i][a]**2\n",
    "\n",
    "Xfft2 = XfftTemp.real\n",
    "\n"
   ]
  },
  {
   "cell_type": "code",
   "execution_count": 10,
   "metadata": {
    "scrolled": true
   },
   "outputs": [
    {
     "data": {
      "text/plain": [
       "SVC(C=0.0001, cache_size=200, class_weight=None, coef0=0.0,\n",
       "    decision_function_shape='ovr', degree=3, gamma='auto', kernel='linear',\n",
       "    max_iter=-1, probability=False, random_state=None, shrinking=True,\n",
       "    tol=0.001, verbose=False)"
      ]
     },
     "execution_count": 10,
     "metadata": {},
     "output_type": "execute_result"
    }
   ],
   "source": [
    "#SVM\n",
    "clf = svm.SVC(C=0.0001, gamma='auto', kernel='linear')\n",
    "clf.fit(Xfft2, Ytargets)"
   ]
  },
  {
   "cell_type": "code",
   "execution_count": null,
   "metadata": {},
   "outputs": [],
   "source": [
    "#alter C value for optimization"
   ]
  },
  {
   "cell_type": "code",
   "execution_count": 41,
   "metadata": {},
   "outputs": [
    {
     "name": "stdout",
     "output_type": "stream",
     "text": [
      "0.763\n"
     ]
    }
   ],
   "source": [
    "clf = svm.SVC(C=0.0001, gamma='auto', kernel='linear')\n",
    "clf.fit(Xfft2, Ytargets)\n",
    "tXfft = np.fft.fft(Xtest)\n",
    "tXfftTemp = tXfft\n",
    "for i in range(0,len(tXfft)):\n",
    "    for a in range(0,200):\n",
    "        tXfftTemp[i][a] = tXfft[i][a].real*tXfft[i][a].real + tXfft[i][a].imag*tXfft[i][a].imag + 2*tXfft[i][a].real*tXfft[i][a].imag\n",
    "tXfft2 = tXfftTemp.real\n",
    "predYdata = clf.predict(tXfft2)\n",
    "\n",
    "total = 0\n",
    "cPred = 0\n",
    "for i in range(0,len(Ytest)):\n",
    "    if (predYdata[i] == Ytest[i]):\n",
    "        cPred += 1\n",
    "    total += 1\n",
    "accuracy = float(cPred)/float(total)\n",
    "print (accuracy)"
   ]
  },
  {
   "cell_type": "code",
   "execution_count": 44,
   "metadata": {},
   "outputs": [
    {
     "name": "stdout",
     "output_type": "stream",
     "text": [
      "0.811\n"
     ]
    }
   ],
   "source": [
    "#LDA\n",
    "clf = LDA()\n",
    "clf.fit(Xfft2,Ytargets)\n",
    "tXfft = np.fft.fft(Xtest)\n",
    "tXfftTemp = tXfft\n",
    "for i in range(0,len(tXfft)):\n",
    "    for a in range(0,200):\n",
    "        tXfftTemp[i][a] = tXfft[i][a].real*tXfft[i][a].real + tXfft[i][a].imag*tXfft[i][a].imag + 2*tXfft[i][a].real*tXfft[i][a].imag\n",
    "tXfft2 = tXfftTemp.real\n",
    "predYdata = clf.predict(tXfft2)\n",
    "\n",
    "total = 0\n",
    "cPred = 0\n",
    "for i in range(0,len(Ytest)):\n",
    "    if (predYdata[i] == Ytest[i]):\n",
    "        cPred += 1\n",
    "    total += 1\n",
    "accuracy = float(cPred)/float(total)\n",
    "print (accuracy)"
   ]
  },
  {
   "cell_type": "code",
   "execution_count": null,
   "metadata": {},
   "outputs": [],
   "source": []
  }
 ],
 "metadata": {
  "kernelspec": {
   "display_name": "Python 3",
   "language": "python",
   "name": "python3"
  },
  "language_info": {
   "codemirror_mode": {
    "name": "ipython",
    "version": 3
   },
   "file_extension": ".py",
   "mimetype": "text/x-python",
   "name": "python",
   "nbconvert_exporter": "python",
   "pygments_lexer": "ipython3",
   "version": "3.7.3"
  }
 },
 "nbformat": 4,
 "nbformat_minor": 2
}
